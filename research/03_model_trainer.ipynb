{
 "cells": [
  {
   "cell_type": "code",
   "execution_count": 1,
   "metadata": {},
   "outputs": [],
   "source": [
    "import os"
   ]
  },
  {
   "cell_type": "code",
   "execution_count": 2,
   "metadata": {},
   "outputs": [],
   "source": [
    "os.chdir('../')"
   ]
  },
  {
   "cell_type": "code",
   "execution_count": 3,
   "metadata": {},
   "outputs": [
    {
     "data": {
      "text/plain": [
       "'d:\\\\AI\\\\Project\\\\Tyre-Quality-Classification'"
      ]
     },
     "execution_count": 3,
     "metadata": {},
     "output_type": "execute_result"
    }
   ],
   "source": [
    "%pwd"
   ]
  },
  {
   "cell_type": "code",
   "execution_count": 4,
   "metadata": {},
   "outputs": [],
   "source": [
    "from dataclasses import dataclass\n",
    "from pathlib import Path\n",
    "\n",
    "\n",
    "@dataclass(frozen=True)\n",
    "class TrainingConfig:\n",
    "    root_dir: Path\n",
    "    trained_model_path: Path\n",
    "    updated_base_model_path: Path\n",
    "    training_data: Path\n",
    "    params_epochs: int\n",
    "    params_batch_size: int\n",
    "    params_is_augmentation: bool\n",
    "    params_image_size: list"
   ]
  },
  {
   "cell_type": "code",
   "execution_count": 5,
   "metadata": {},
   "outputs": [],
   "source": [
    "from cnnClassifier.constants import *\n",
    "from cnnClassifier.utils.common import read_yaml, create_directories\n",
    "import tensorflow as tf"
   ]
  },
  {
   "cell_type": "code",
   "execution_count": 10,
   "metadata": {},
   "outputs": [],
   "source": [
    "class ConfigurationManager:\n",
    "    def __init__(\n",
    "        self,\n",
    "        config_filepath = CONFIG_FILE_PATH,\n",
    "        params_filepath = PARAMS_FILE_PATH):\n",
    "\n",
    "        self.config = read_yaml(config_filepath)\n",
    "        self.params = read_yaml(params_filepath)\n",
    "\n",
    "        create_directories([self.config.artifacts_root])\n",
    "    \n",
    "\n",
    "\n",
    "    def get_training_config(self) -> TrainingConfig:\n",
    "        training = self.config.training\n",
    "        prepare_base_model = self.config.prepare_base_model\n",
    "        params = self.params\n",
    "        training_data = os.path.join(self.config.data_ingestion.unzip_dir, \"Tyre_Quality\\Tyre-Quality-data\")\n",
    "        create_directories([\n",
    "            Path(training.root_dir)\n",
    "        ])\n",
    "\n",
    "        training_config = TrainingConfig(\n",
    "            root_dir=Path(training.root_dir),\n",
    "            trained_model_path=Path(training.trained_model_path),\n",
    "            updated_base_model_path=Path(prepare_base_model.updated_base_model_path),\n",
    "            training_data=Path(training_data),\n",
    "            params_epochs=params.EPOCHS,\n",
    "            params_batch_size=params.BATCH_SIZE,\n",
    "            params_is_augmentation=params.AUGMENTATION,\n",
    "            params_image_size=params.IMAGE_SIZE\n",
    "        )\n",
    "\n",
    "        return training_config"
   ]
  },
  {
   "cell_type": "code",
   "execution_count": 11,
   "metadata": {},
   "outputs": [],
   "source": [
    "import os\n",
    "import urllib.request as request\n",
    "from zipfile import ZipFile\n",
    "import tensorflow as tf\n",
    "import time"
   ]
  },
  {
   "cell_type": "code",
   "execution_count": 12,
   "metadata": {},
   "outputs": [],
   "source": [
    "class Training:\n",
    "    def __init__(self, config: TrainingConfig):\n",
    "        self.config = config\n",
    "\n",
    "    \n",
    "    def get_base_model(self):\n",
    "        self.model = tf.keras.models.load_model(\n",
    "            self.config.updated_base_model_path\n",
    "        )\n",
    "\n",
    "    def train_valid_generator(self):\n",
    "\n",
    "        datagenerator_kwargs = dict(\n",
    "            rescale = 1./255,\n",
    "            validation_split=0.20\n",
    "        )\n",
    "\n",
    "        dataflow_kwargs = dict(\n",
    "            target_size=self.config.params_image_size[:-1],\n",
    "            batch_size=self.config.params_batch_size,\n",
    "            interpolation=\"bilinear\"\n",
    "        )\n",
    "\n",
    "        valid_datagenerator = tf.keras.preprocessing.image.ImageDataGenerator(\n",
    "            **datagenerator_kwargs\n",
    "        )\n",
    "\n",
    "        self.valid_generator = valid_datagenerator.flow_from_directory(\n",
    "            directory=self.config.training_data,\n",
    "            subset=\"validation\",\n",
    "            shuffle=False,\n",
    "            **dataflow_kwargs\n",
    "        )\n",
    "\n",
    "        if self.config.params_is_augmentation:\n",
    "            train_datagenerator = tf.keras.preprocessing.image.ImageDataGenerator(\n",
    "                rotation_range=40,\n",
    "                horizontal_flip=True,\n",
    "                width_shift_range=0.2,\n",
    "                height_shift_range=0.2,\n",
    "                shear_range=0.2,\n",
    "                zoom_range=0.2,\n",
    "                **datagenerator_kwargs\n",
    "            )\n",
    "        else:\n",
    "            train_datagenerator = valid_datagenerator\n",
    "\n",
    "        self.train_generator = train_datagenerator.flow_from_directory(\n",
    "            directory=self.config.training_data,\n",
    "            subset=\"training\",\n",
    "            shuffle=True,\n",
    "            **dataflow_kwargs\n",
    "        )\n",
    "\n",
    "    \n",
    "    @staticmethod\n",
    "    def save_model(path: Path, model: tf.keras.Model):\n",
    "        model.save(path)\n",
    "\n",
    "\n",
    "\n",
    "    \n",
    "    def train(self):\n",
    "        self.steps_per_epoch = self.train_generator.samples // self.train_generator.batch_size\n",
    "        self.validation_steps = self.valid_generator.samples // self.valid_generator.batch_size\n",
    "\n",
    "        self.model.fit(\n",
    "            self.train_generator,\n",
    "            epochs=self.config.params_epochs,\n",
    "            steps_per_epoch=self.steps_per_epoch,\n",
    "            validation_steps=self.validation_steps,\n",
    "            validation_data=self.valid_generator\n",
    "        )\n",
    "\n",
    "        self.save_model(\n",
    "            path=self.config.trained_model_path,\n",
    "            model=self.model\n",
    "        )"
   ]
  },
  {
   "cell_type": "code",
   "execution_count": 13,
   "metadata": {},
   "outputs": [
    {
     "name": "stdout",
     "output_type": "stream",
     "text": [
      "[2024-09-22 09:54:36,593: INFO: common: yaml file: config\\config.yaml loaded successfully]\n",
      "[2024-09-22 09:54:36,596: INFO: common: yaml file: params.yaml loaded successfully]\n",
      "[2024-09-22 09:54:36,597: INFO: common: created directory at: artifacts]\n",
      "[2024-09-22 09:54:36,598: INFO: common: created directory at: artifacts\\training]\n",
      "Found 296 images belonging to 2 classes.\n",
      "Found 1188 images belonging to 2 classes.\n",
      "Epoch 1/20\n",
      "74/74 [==============================] - 67s 899ms/step - loss: 0.6810 - accuracy: 0.7287 - val_loss: 0.5147 - val_accuracy: 0.7812\n",
      "Epoch 2/20\n",
      "74/74 [==============================] - 41s 547ms/step - loss: 0.4973 - accuracy: 0.8097 - val_loss: 0.5385 - val_accuracy: 0.7674\n",
      "Epoch 3/20\n",
      "74/74 [==============================] - 34s 455ms/step - loss: 0.3728 - accuracy: 0.8541 - val_loss: 0.4722 - val_accuracy: 0.7917\n",
      "Epoch 4/20\n",
      "74/74 [==============================] - 32s 438ms/step - loss: 0.3525 - accuracy: 0.8695 - val_loss: 0.4752 - val_accuracy: 0.7951\n",
      "Epoch 5/20\n",
      "74/74 [==============================] - 33s 448ms/step - loss: 0.3152 - accuracy: 0.8746 - val_loss: 0.4373 - val_accuracy: 0.8021\n",
      "Epoch 6/20\n",
      "74/74 [==============================] - 33s 441ms/step - loss: 0.3058 - accuracy: 0.8805 - val_loss: 0.4203 - val_accuracy: 0.8125\n",
      "Epoch 7/20\n",
      "74/74 [==============================] - 33s 449ms/step - loss: 0.2709 - accuracy: 0.9010 - val_loss: 0.5758 - val_accuracy: 0.7535\n",
      "Epoch 8/20\n",
      "74/74 [==============================] - 34s 460ms/step - loss: 0.2859 - accuracy: 0.8865 - val_loss: 0.5065 - val_accuracy: 0.7812\n",
      "Epoch 9/20\n",
      "74/74 [==============================] - 33s 440ms/step - loss: 0.2527 - accuracy: 0.9027 - val_loss: 0.4266 - val_accuracy: 0.8229\n",
      "Epoch 10/20\n",
      "74/74 [==============================] - 33s 441ms/step - loss: 0.2333 - accuracy: 0.8976 - val_loss: 0.4775 - val_accuracy: 0.7986\n",
      "Epoch 11/20\n",
      "74/74 [==============================] - 32s 436ms/step - loss: 0.2275 - accuracy: 0.9104 - val_loss: 0.4727 - val_accuracy: 0.8056\n",
      "Epoch 12/20\n",
      "74/74 [==============================] - 33s 444ms/step - loss: 0.2242 - accuracy: 0.9096 - val_loss: 0.3921 - val_accuracy: 0.8264\n",
      "Epoch 13/20\n",
      "74/74 [==============================] - 32s 434ms/step - loss: 0.2218 - accuracy: 0.9138 - val_loss: 0.3965 - val_accuracy: 0.8264\n",
      "Epoch 14/20\n",
      "74/74 [==============================] - 32s 436ms/step - loss: 0.1926 - accuracy: 0.9198 - val_loss: 0.3815 - val_accuracy: 0.8333\n",
      "Epoch 15/20\n",
      "74/74 [==============================] - 33s 452ms/step - loss: 0.2278 - accuracy: 0.9078 - val_loss: 0.4497 - val_accuracy: 0.8229\n",
      "Epoch 16/20\n",
      "74/74 [==============================] - 33s 451ms/step - loss: 0.2028 - accuracy: 0.9147 - val_loss: 0.4094 - val_accuracy: 0.8299\n",
      "Epoch 17/20\n",
      "74/74 [==============================] - 32s 427ms/step - loss: 0.2039 - accuracy: 0.9215 - val_loss: 0.4387 - val_accuracy: 0.8125\n",
      "Epoch 18/20\n",
      "74/74 [==============================] - 32s 432ms/step - loss: 0.1936 - accuracy: 0.9164 - val_loss: 0.4332 - val_accuracy: 0.8194\n",
      "Epoch 19/20\n",
      "74/74 [==============================] - 32s 434ms/step - loss: 0.1895 - accuracy: 0.9224 - val_loss: 0.3882 - val_accuracy: 0.8299\n",
      "Epoch 20/20\n",
      "74/74 [==============================] - 32s 430ms/step - loss: 0.1873 - accuracy: 0.9164 - val_loss: 0.3993 - val_accuracy: 0.8264\n"
     ]
    }
   ],
   "source": [
    "try:\n",
    "    config = ConfigurationManager()\n",
    "    training_config = config.get_training_config()\n",
    "    training = Training(config=training_config)\n",
    "    training.get_base_model()\n",
    "    training.train_valid_generator()\n",
    "    training.train()\n",
    "    \n",
    "except Exception as e:\n",
    "    raise e"
   ]
  },
  {
   "cell_type": "code",
   "execution_count": null,
   "metadata": {},
   "outputs": [],
   "source": []
  }
 ],
 "metadata": {
  "kernelspec": {
   "display_name": "chest",
   "language": "python",
   "name": "python3"
  },
  "language_info": {
   "codemirror_mode": {
    "name": "ipython",
    "version": 3
   },
   "file_extension": ".py",
   "mimetype": "text/x-python",
   "name": "python",
   "nbconvert_exporter": "python",
   "pygments_lexer": "ipython3",
   "version": "3.8.19"
  }
 },
 "nbformat": 4,
 "nbformat_minor": 2
}
